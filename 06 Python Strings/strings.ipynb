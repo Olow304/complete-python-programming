{
 "cells": [
  {
   "cell_type": "markdown",
   "id": "92d7cd3c",
   "metadata": {},
   "source": [
    "<img style=\"float: left;\" src=\"https://avatars.githubusercontent.com/u/88348966?s=400&u=9643fc4455139ef6e232241a949da1d6005499e6&v=4\" alt=\"drawing\" />"
   ]
  },
  {
   "cell_type": "markdown",
   "id": "f1c32b5e",
   "metadata": {},
   "source": [
    "### Welcome to the Repository for the Complete Python Bootcamp!\n",
    "\n",
    "## Strings\n",
    "\n",
    "Hello guys, welcome back. In this video, we’re going to learning about Strings in Python. Very often in your programming life, you will deal with text, mainly the user will be giving some text that we want to do something with.\n",
    "\n",
    "In Python, we have a datatype called strings, which are used to contain text like characters, symbols, or even numbers. \n",
    "\n",
    "Let’s define a string in Python. Here’s our first string, let’s called it <b>“full_name”</b> and assign a value to it, <b>“Abdi Ali”</b>."
   ]
  },
  {
   "cell_type": "code",
   "execution_count": null,
   "id": "8ec5dc5e",
   "metadata": {},
   "outputs": [],
   "source": [
    "full_name = \"Abdi Ali\""
   ]
  },
  {
   "cell_type": "markdown",
   "id": "02563d8d",
   "metadata": {},
   "source": [
    "As you can see we surrounded this string with double quotations marks. You can also use single quotations mark. \n",
    "    It’s important that it starts and ends with quotation marks that match, here again, we use double quotes but that’s just me.\n",
    "\n",
    "This string here contains the characters <b>A, B, D, I, space A, L, I</b> including space as well.\n",
    "\n",
    "<b>NOTE</b> - When we run the program, Python looks at this string, it knows nothing about it because the string doesn’t have any meaning, all it is used for is to carry these characters."
   ]
  },
  {
   "cell_type": "markdown",
   "id": "6a9fd378",
   "metadata": {},
   "source": [
    "Let’s define a string with the value of <b>“It’s me, Abdi Ali”</b>"
   ]
  },
  {
   "cell_type": "code",
   "execution_count": null,
   "id": "9954f4aa",
   "metadata": {},
   "outputs": [],
   "source": [
    "name = \"it’s me, Abdi Ali\""
   ]
  },
  {
   "cell_type": "markdown",
   "id": "d9b0ab80",
   "metadata": {},
   "source": [
    "Here, we definitely want to use the double quotation marks on the outside, because we have a single quotation mark on the inside. Similarly, we may want to use the single quotation marks on the outside and the double quotation marks on the inside.\n",
    "\n",
    "Let’s define a string with the value of <b>‘He replied, \"I left the keys in the car.\" yesterday.’</b> Here we are dealing with the correct string type, so we can put whatever we want inside."
   ]
  },
  {
   "cell_type": "code",
   "execution_count": null,
   "id": "a35e99da",
   "metadata": {},
   "outputs": [],
   "source": [
    "single_quotes_outside = 'He replied, \"I left the keys in the car.\" yesterday'"
   ]
  },
  {
   "cell_type": "code",
   "execution_count": null,
   "id": "e75e3322",
   "metadata": {},
   "outputs": [],
   "source": [
    "print(single_quotes_outside)"
   ]
  },
  {
   "cell_type": "markdown",
   "id": "b3ce263b",
   "metadata": {},
   "source": [
    "Let’s switch this into a double quotation mark string. We can put double quotation marks at the beginning and at the end and put a backslash in front of these quotes. When you do this, is called escaping and it’s quite a common thing to do."
   ]
  },
  {
   "cell_type": "code",
   "execution_count": null,
   "id": "54128789",
   "metadata": {},
   "outputs": [],
   "source": [
    "double_quotes_outside = \"He replied, \\\"I left the keys in the car.\\\" yesterday\""
   ]
  },
  {
   "cell_type": "code",
   "execution_count": null,
   "id": "d618371e",
   "metadata": {},
   "outputs": [],
   "source": [
    "print(double_quotes_outside)"
   ]
  },
  {
   "cell_type": "markdown",
   "id": "567e4d53",
   "metadata": {},
   "source": [
    "Let’s say we have a longer text we want to assign a variable to it. We’ll define a variable called longer_text and here we are gonna use three quotations marks and put whatever text we want inside. Once we print it out."
   ]
  },
  {
   "cell_type": "code",
   "execution_count": null,
   "id": "1bcb38b6",
   "metadata": {},
   "outputs": [],
   "source": [
    "longer_text = \"\"\"Hello,\n",
    "Abdi Ali\n",
    "\n",
    "\"\"\""
   ]
  },
  {
   "cell_type": "code",
   "execution_count": null,
   "id": "4a3141ca",
   "metadata": {},
   "outputs": [],
   "source": [
    "print(longer_text)"
   ]
  },
  {
   "cell_type": "markdown",
   "id": "02425911",
   "metadata": {},
   "source": [
    "We’ll see that we got multiple lines printed out. Multiline strings are very useful when you have much longer text you working with."
   ]
  },
  {
   "cell_type": "markdown",
   "id": "3208166b",
   "metadata": {},
   "source": [
    "What if we want to assign each variable to a string and add them together. Let’s define the first_name and last_name plus greeting variable and assign values to it. We can join them and makeup one final string."
   ]
  },
  {
   "cell_type": "code",
   "execution_count": null,
   "id": "4ef2e82f",
   "metadata": {},
   "outputs": [],
   "source": [
    "first_name = \"Abid\"\n",
    "last_name = \"Ali\"\n",
    "greet = \"Hello, \" + first_name + \" \" + last_name"
   ]
  },
  {
   "cell_type": "code",
   "execution_count": null,
   "id": "d38ab80b",
   "metadata": {},
   "outputs": [],
   "source": [
    "print(greet)"
   ]
  },
  {
   "cell_type": "markdown",
   "id": "e0c3d340",
   "metadata": {},
   "source": [
    "<b>NOTE</b>. We cannot add integers and strings together. We must convert to string first before we can add them together. Converting to string is very easy. We can either add the quotation marks around it or we can use the str function and pass it the value inside, don’t worry str is a function, we’ll go cover more on this later."
   ]
  },
  {
   "cell_type": "code",
   "execution_count": null,
   "id": "ae3031a1",
   "metadata": {},
   "outputs": [],
   "source": [
    "# this will give us error\n",
    "age = 23\n",
    "name = \"Abdi Ali\"\n",
    "\n",
    "#final_string = name + \"is\" + age + \"years old\" -> TypeError: can only concatenate str (not \"int\") to str\n",
    "#print(name)"
   ]
  },
  {
   "cell_type": "code",
   "execution_count": null,
   "id": "b73a4105",
   "metadata": {},
   "outputs": [],
   "source": [
    "# this will work\n",
    "age = 23\n",
    "final_string = name + \" \" + \"is \" + str(age) + \" \" + \"years old\"\n",
    "print(final_string)"
   ]
  },
  {
   "cell_type": "markdown",
   "id": "d4bc120a",
   "metadata": {},
   "source": [
    "Let’s use string formatting, to accomplish much faster and more readable. We’re going to add <b>F-string</b> to the beginning of our double-quotes. <b>F-string</b> is only something available in Python 3.6 and above. Let’s add some string and then inside a couple of curly braces, we’re going to add our variable <b>“age”</b> inside curly braces."
   ]
  },
  {
   "cell_type": "code",
   "execution_count": null,
   "id": "76111197",
   "metadata": {},
   "outputs": [],
   "source": [
    "age = 23\n",
    "final_string = f\"Abdi Ali is {age} years old\"\n",
    "print(final_string)"
   ]
  },
  {
   "cell_type": "markdown",
   "id": "daf2dd84",
   "metadata": {},
   "source": [
    "Let’s assign a new value to age and if that changes age to <b>24</b> when we print out, the age doesn’t change."
   ]
  },
  {
   "cell_type": "code",
   "execution_count": null,
   "id": "6f53b6c8",
   "metadata": {},
   "outputs": [],
   "source": [
    "age = 24\n",
    "print(final_string)"
   ]
  },
  {
   "cell_type": "markdown",
   "id": "85277b67",
   "metadata": {},
   "source": [
    "If we want the new value to affect our final_string, we’ll need to use formatting strings, which do allow for the changing of variables.\n",
    "\n",
    "Let’s define a new variable called the “final_string” and then just opening and closing curly braces with the name of the variable inside. We can define another variable called “abdi_string” and add <b>dot format</b> and pass in the age."
   ]
  },
  {
   "cell_type": "code",
   "execution_count": null,
   "id": "17fe0cbe",
   "metadata": {},
   "outputs": [],
   "source": [
    "age = 23\n",
    "final_string = \"Abdi Ali is {} years old\"\n",
    "print(final_string.format(age))"
   ]
  },
  {
   "cell_type": "markdown",
   "id": "f2257ff6",
   "metadata": {},
   "source": [
    "Now, if we change the age to a new value, add dot format and print out, it’ll have different values than before."
   ]
  },
  {
   "cell_type": "code",
   "execution_count": null,
   "id": "008ab1be",
   "metadata": {},
   "outputs": [],
   "source": [
    "age = 24\n",
    "print(final_string.format(age))"
   ]
  },
  {
   "cell_type": "markdown",
   "id": "f1bb6dad",
   "metadata": {},
   "source": [
    "Converting data types and string formatting is very common in Python, we’ll learning more about these upcoming lectures. \n",
    "    \n",
    "But for now, that’s it for this video. Join us in our Facebook community, the link is on the description. I’ll see you next one. "
   ]
  }
 ],
 "metadata": {
  "kernelspec": {
   "display_name": "Python 3",
   "language": "python",
   "name": "python3"
  },
  "language_info": {
   "codemirror_mode": {
    "name": "ipython",
    "version": 3
   },
   "file_extension": ".py",
   "mimetype": "text/x-python",
   "name": "python",
   "nbconvert_exporter": "python",
   "pygments_lexer": "ipython3",
   "version": "3.8.10"
  }
 },
 "nbformat": 4,
 "nbformat_minor": 5
}
