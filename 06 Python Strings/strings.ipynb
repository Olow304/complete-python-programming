{
 "cells": [
  {
   "cell_type": "markdown",
   "id": "cbb9ca0f",
   "metadata": {},
   "source": [
    "<img style=\"float: left;\" src=\"https://mail.google.com/mail/u/0?ui=2&ik=f77602dec5&attid=0.1&permmsgid=msg-a:r-5450312987017904442&th=17b09d2bc45eb356&view=fimg&sz=s0-l75-ft&attbid=ANGjdJ_W6238rld-sgq80EfMw3POT2PvpKk9yuNa-ea9zKmgTVFKaRKLhVATIfipA-FfdxZNhxXpO4DgWQtjBuC_9a27Ks7U5UwGGU4TxBxnN4JImMHF3iHQHgeDiCo&disp=emb&realattid=ii_krvft3wc0\" alt=\"drawing\" width=\"500\" height=\"500\"/>\n",
    "\n",
    "</br>"
   ]
  },
  {
   "cell_type": "markdown",
   "id": "ff9f4314",
   "metadata": {},
   "source": [
    "### Welcome to the Repository for the Complete Python Bootcamp!\n",
    "\n",
    "## Strings\n",
    "\n",
    "Hello guys, welcome back. In this video, we’re going to learning about Strings in Python. Very often in your programming life, you will deal with text, mainly the user will be giving some text that we want to do something with.\n",
    "\n",
    "In Python, we have a datatype called strings, which are used to contain text like characters, symbols, or even numbers. \n",
    "\n",
    "Let’s define a string in Python. Here’s our first string, let’s called it <b>“full_name”</b> and assign a value to it, <b>“Abdi Ali”</b>."
   ]
  },
  {
   "cell_type": "code",
   "execution_count": 27,
   "id": "6691a450",
   "metadata": {},
   "outputs": [],
   "source": [
    "full_name = \"Abdi Ali\""
   ]
  },
  {
   "cell_type": "markdown",
   "id": "f31797df",
   "metadata": {},
   "source": [
    "As you can see we surrounded this string with double quotations marks. You can also use single quotations mark. \n",
    "    It’s important that it starts and ends with quotation marks that match, here again, we use double quotes but that’s just me.\n",
    "\n",
    "This string here contains the characters <b>A, B, D, I, space A, L, I</b> including space as well.\n",
    "\n",
    "<b>NOTE</b> - When we run the program, Python looks at this string, it knows nothing about it because the string doesn’t have any meaning, all it is used for is to carry these characters."
   ]
  },
  {
   "cell_type": "markdown",
   "id": "71a20017",
   "metadata": {},
   "source": [
    "Let’s define a string with the value of <b>“It’s me, Abdi Ali”</b>"
   ]
  },
  {
   "cell_type": "code",
   "execution_count": 2,
   "id": "74fdac7f",
   "metadata": {},
   "outputs": [],
   "source": [
    "name = \"it’s me, Abdi Ali\""
   ]
  },
  {
   "cell_type": "markdown",
   "id": "24723fdb",
   "metadata": {},
   "source": [
    "Here, we definitely want to use the double quotation marks on the outside, because we have a single quotation mark on the inside. Similarly, we may want to use the single quotation marks on the outside and the double quotation marks on the inside.\n",
    "\n",
    "Let’s define a string with the value of <b>‘He replied, \"I left the keys in the car.\" yesterday.’</b> Here we are dealing with the correct string type, so we can put whatever we want inside."
   ]
  },
  {
   "cell_type": "code",
   "execution_count": 3,
   "id": "f86535ea",
   "metadata": {},
   "outputs": [],
   "source": [
    "single_quotes_outside = 'He replied, \"I left the keys in the car.\" yesterday'"
   ]
  },
  {
   "cell_type": "code",
   "execution_count": 4,
   "id": "b777f771",
   "metadata": {},
   "outputs": [
    {
     "name": "stdout",
     "output_type": "stream",
     "text": [
      "He replied, \"I left the keys in the car.\" yesterday\n"
     ]
    }
   ],
   "source": [
    "print(single_quotes_outside)"
   ]
  },
  {
   "cell_type": "markdown",
   "id": "b5aabdc9",
   "metadata": {},
   "source": [
    "Let’s switch this into a double quotation mark string. We can put double quotation marks at the beginning and at the end and put a backslash in front of these quotes. When you do this, is called escaping and it’s quite a common thing to do."
   ]
  },
  {
   "cell_type": "code",
   "execution_count": 5,
   "id": "09f273e4",
   "metadata": {},
   "outputs": [],
   "source": [
    "double_quotes_outside = \"He replied, \\\"I left the keys in the car.\\\" yesterday\""
   ]
  },
  {
   "cell_type": "code",
   "execution_count": 6,
   "id": "0f8364d2",
   "metadata": {},
   "outputs": [
    {
     "name": "stdout",
     "output_type": "stream",
     "text": [
      "He replied, \"I left the keys in the car.\" yesterday\n"
     ]
    }
   ],
   "source": [
    "print(double_quotes_outside)"
   ]
  },
  {
   "cell_type": "markdown",
   "id": "b67457ed",
   "metadata": {},
   "source": [
    "Let’s say we have a longer text we want to assign a variable to it. We’ll define a variable called longer_text and here we are gonna use three quotations marks and put whatever text we want inside. Once we print it out."
   ]
  },
  {
   "cell_type": "code",
   "execution_count": 7,
   "id": "22351a92",
   "metadata": {},
   "outputs": [],
   "source": [
    "longer_text = \"\"\"Hello,\n",
    "Abdi Ali\n",
    "\n",
    "\"\"\""
   ]
  },
  {
   "cell_type": "code",
   "execution_count": 8,
   "id": "9ca387b2",
   "metadata": {},
   "outputs": [
    {
     "name": "stdout",
     "output_type": "stream",
     "text": [
      "Hello,\n",
      "Abdi Ali\n",
      "\n",
      "\n"
     ]
    }
   ],
   "source": [
    "print(longer_text)"
   ]
  },
  {
   "cell_type": "markdown",
   "id": "a39f7dab",
   "metadata": {},
   "source": [
    "We’ll see that we got multiple lines printed out. Multiline strings are very useful when you have much longer text you working with."
   ]
  },
  {
   "cell_type": "markdown",
   "id": "40152ff8",
   "metadata": {},
   "source": [
    "What if we want to assign each variable to a string and add them together. Let’s define the first_name and last_name plus greeting variable and assign values to it. We can join them and makeup one final string."
   ]
  },
  {
   "cell_type": "code",
   "execution_count": 11,
   "id": "c3016c11",
   "metadata": {},
   "outputs": [],
   "source": [
    "first_name = \"Abid\"\n",
    "last_name = \"Ali\"\n",
    "greet = \"Hello, \" + first_name + \" \" + last_name"
   ]
  },
  {
   "cell_type": "code",
   "execution_count": 12,
   "id": "a7633b25",
   "metadata": {},
   "outputs": [
    {
     "name": "stdout",
     "output_type": "stream",
     "text": [
      "Hello, Abid Ali\n"
     ]
    }
   ],
   "source": [
    "print(greet)"
   ]
  },
  {
   "cell_type": "markdown",
   "id": "6769ad43",
   "metadata": {},
   "source": [
    "<b>NOTE</b>. We cannot add integers and strings together. We must convert to string first before we can add them together. Converting to string is very easy. We can either add the quotation marks around it or we can use the str function and pass it the value inside, don’t worry str is a function, we’ll go cover more on this later."
   ]
  },
  {
   "cell_type": "code",
   "execution_count": 14,
   "id": "ed4d8e13",
   "metadata": {},
   "outputs": [],
   "source": [
    "# this will give us error\n",
    "age = 23\n",
    "name = \"Abdi Ali\"\n",
    "\n",
    "#final_string = name + \"is\" + age + \"years old\" -> TypeError: can only concatenate str (not \"int\") to str\n",
    "#print(name)"
   ]
  },
  {
   "cell_type": "code",
   "execution_count": 20,
   "id": "b9da3d4f",
   "metadata": {},
   "outputs": [
    {
     "name": "stdout",
     "output_type": "stream",
     "text": [
      "Abdi Ali is 23 years old\n"
     ]
    }
   ],
   "source": [
    "# this will work\n",
    "age = 23\n",
    "final_string = name + \" \" + \"is \" + str(age) + \" \" + \"years old\"\n",
    "print(final_string)"
   ]
  },
  {
   "cell_type": "markdown",
   "id": "5cd53bf2",
   "metadata": {},
   "source": [
    "Let’s use string formatting, to accomplish much faster and more readable. We’re going to add <b>F-string</b> to the beginning of our double-quotes. <b>F-string</b> is only something available in Python 3.6 and above. Let’s add some string and then inside a couple of curly braces, we’re going to add our variable <b>“age”</b> inside curly braces."
   ]
  },
  {
   "cell_type": "code",
   "execution_count": 21,
   "id": "a4225941",
   "metadata": {},
   "outputs": [
    {
     "name": "stdout",
     "output_type": "stream",
     "text": [
      "Abdi Ali is 23 years old\n"
     ]
    }
   ],
   "source": [
    "age = 23\n",
    "final_string = f\"Abdi Ali is {age} years old\"\n",
    "print(final_string)"
   ]
  },
  {
   "cell_type": "markdown",
   "id": "a4505cc4",
   "metadata": {},
   "source": [
    "Let’s assign a new value to age and if that changes age to <b>24</b> when we print out, the age doesn’t change."
   ]
  },
  {
   "cell_type": "code",
   "execution_count": 22,
   "id": "eef69b44",
   "metadata": {},
   "outputs": [
    {
     "name": "stdout",
     "output_type": "stream",
     "text": [
      "Abdi Ali is 23 years old\n"
     ]
    }
   ],
   "source": [
    "age = 24\n",
    "print(final_string)"
   ]
  },
  {
   "cell_type": "markdown",
   "id": "7989a7d2",
   "metadata": {},
   "source": [
    "If we want the new value to affect our final_string, we’ll need to use formatting strings, which do allow for the changing of variables.\n",
    "\n",
    "Let’s define a new variable called the “final_string” and then just opening and closing curly braces with the name of the variable inside. We can define another variable called “abdi_string” and add <b>dot format</b> and pass in the age."
   ]
  },
  {
   "cell_type": "code",
   "execution_count": 25,
   "id": "9211cedf",
   "metadata": {},
   "outputs": [
    {
     "name": "stdout",
     "output_type": "stream",
     "text": [
      "Abdi Ali is 23 years old\n"
     ]
    }
   ],
   "source": [
    "age = 23\n",
    "final_string = \"Abdi Ali is {} years old\"\n",
    "print(final_string.format(age))"
   ]
  },
  {
   "cell_type": "markdown",
   "id": "035e2ba2",
   "metadata": {},
   "source": [
    "Now, if we change the age to a new value, add dot format and print out, it’ll have different values than before."
   ]
  },
  {
   "cell_type": "code",
   "execution_count": 26,
   "id": "46f83e7f",
   "metadata": {},
   "outputs": [
    {
     "name": "stdout",
     "output_type": "stream",
     "text": [
      "Abdi Ali is 24 years old\n"
     ]
    }
   ],
   "source": [
    "age = 24\n",
    "print(final_string.format(age))"
   ]
  },
  {
   "cell_type": "markdown",
   "id": "f20ef6f6",
   "metadata": {},
   "source": [
    "Converting data types and string formatting is very common in Python, we’ll learning more about these upcoming lectures. \n",
    "    \n",
    "But for now, that’s it for this video. Join us in our Facebook community, the link is on the description. I’ll see you next one. "
   ]
  }
 ],
 "metadata": {
  "kernelspec": {
   "display_name": "Python 3",
   "language": "python",
   "name": "python3"
  },
  "language_info": {
   "codemirror_mode": {
    "name": "ipython",
    "version": 3
   },
   "file_extension": ".py",
   "mimetype": "text/x-python",
   "name": "python",
   "nbconvert_exporter": "python",
   "pygments_lexer": "ipython3",
   "version": "3.8.10"
  }
 },
 "nbformat": 4,
 "nbformat_minor": 5
}
