{
  "nbformat": 4,
  "nbformat_minor": 5,
  "metadata": {
    "kernelspec": {
      "display_name": "Python 3",
      "language": "python",
      "name": "python3"
    },
    "language_info": {
      "codemirror_mode": {
        "name": "ipython",
        "version": 3
      },
      "file_extension": ".py",
      "mimetype": "text/x-python",
      "name": "python",
      "nbconvert_exporter": "python",
      "pygments_lexer": "ipython3",
      "version": "3.8.10"
    },
    "colab": {
      "name": "data_structures.ipynb",
      "provenance": []
    }
  },
  "cells": [
    {
      "cell_type": "markdown",
      "metadata": {
        "id": "8dd37bf0"
      },
      "source": [
        "<img style=\"float: left;\" src=\"https://avatars.githubusercontent.com/u/88348966?s=400&u=9643fc4455139ef6e232241a949da1d6005499e6&v=4\" alt=\"drawing\" />\n"
      ],
      "id": "8dd37bf0"
    },
    {
      "cell_type": "markdown",
      "metadata": {
        "id": "ff4fb50c"
      },
      "source": [
        "### Welcome to the Repository for the Complete Python Bootcamp!\n",
        "## Simple Data Structures\n",
        "Hello guys, welcome back.\n",
        "\n",
        "In this section, we’re going to learning about how to store data in composite forms and how to manipulate those forms.\n",
        "\n",
        "Those forms are called data structures and we focus on arrays(lists), touples, and dictionaries in this case"
      ],
      "id": "ff4fb50c"
    },
    {
      "cell_type": "markdown",
      "metadata": {
        "id": "0a8b997c"
      },
      "source": [
        "### Arrays(lists) in Python\n",
        "\n",
        "A list in python is a collection of data and data structures. Lists can hold any combination of data at onces.\n",
        "\n",
        "To start, we will create a simple list"
      ],
      "id": "0a8b997c"
    },
    {
      "cell_type": "code",
      "metadata": {
        "id": "eb4a3ab1"
      },
      "source": [
        "mylist = [\"Abdi\", \"mubarik\", 'Saleban', 1, 2.5, -1991]"
      ],
      "id": "eb4a3ab1",
      "execution_count": 1,
      "outputs": []
    },
    {
      "cell_type": "markdown",
      "metadata": {
        "id": "oFrTz-hV2Xfi"
      },
      "source": [
        "#### Accessing elements in a list\n",
        "\n",
        "To access elements in a list, you need to use their index or place in the list. The index of the first element(\"Abdi\") is 0, the index of the second element is 1 and so on. \n",
        "\n",
        "To access an element will use square brackets in the form `mylist[index]` \n",
        "\n",
        "Run the following examples to see how it works"
      ],
      "id": "oFrTz-hV2Xfi"
    },
    {
      "cell_type": "code",
      "metadata": {
        "colab": {
          "base_uri": "https://localhost:8080/"
        },
        "id": "KDAawRjb3U-x",
        "outputId": "aded21e5-28f7-464f-dd90-e389a4b37b68"
      },
      "source": [
        "print(mylist[0])"
      ],
      "id": "KDAawRjb3U-x",
      "execution_count": 2,
      "outputs": [
        {
          "output_type": "stream",
          "text": [
            "Abdi\n"
          ],
          "name": "stdout"
        }
      ]
    },
    {
      "cell_type": "code",
      "metadata": {
        "colab": {
          "base_uri": "https://localhost:8080/"
        },
        "id": "dVXuCuq53asL",
        "outputId": "b2a59be9-e000-4b61-bab4-df0b51eb1423"
      },
      "source": [
        "print(mylist[2])"
      ],
      "id": "dVXuCuq53asL",
      "execution_count": 3,
      "outputs": [
        {
          "output_type": "stream",
          "text": [
            "Saleban\n"
          ],
          "name": "stdout"
        }
      ]
    },
    {
      "cell_type": "code",
      "metadata": {
        "colab": {
          "base_uri": "https://localhost:8080/"
        },
        "id": "8GLgWMIE3gVg",
        "outputId": "16e7f389-2a87-4394-bd1d-f9d1b7052622"
      },
      "source": [
        "print(mylist[4])"
      ],
      "id": "8GLgWMIE3gVg",
      "execution_count": 4,
      "outputs": [
        {
          "output_type": "stream",
          "text": [
            "2.5\n"
          ],
          "name": "stdout"
        }
      ]
    },
    {
      "cell_type": "code",
      "metadata": {
        "colab": {
          "base_uri": "https://localhost:8080/",
          "height": 167
        },
        "id": "vJ_JjLgC3lyq",
        "outputId": "446988b0-fb80-4d2e-fa40-adc9ba561983"
      },
      "source": [
        "print(mylist[12])"
      ],
      "id": "vJ_JjLgC3lyq",
      "execution_count": 5,
      "outputs": [
        {
          "output_type": "error",
          "ename": "IndexError",
          "evalue": "ignored",
          "traceback": [
            "\u001b[0;31m---------------------------------------------------------------------------\u001b[0m",
            "\u001b[0;31mIndexError\u001b[0m                                Traceback (most recent call last)",
            "\u001b[0;32m<ipython-input-5-2d836e901cd1>\u001b[0m in \u001b[0;36m<module>\u001b[0;34m()\u001b[0m\n\u001b[0;32m----> 1\u001b[0;31m \u001b[0mprint\u001b[0m\u001b[0;34m(\u001b[0m\u001b[0mmylist\u001b[0m\u001b[0;34m[\u001b[0m\u001b[0;36m12\u001b[0m\u001b[0;34m]\u001b[0m\u001b[0;34m)\u001b[0m\u001b[0;34m\u001b[0m\u001b[0;34m\u001b[0m\u001b[0m\n\u001b[0m",
            "\u001b[0;31mIndexError\u001b[0m: list index out of range"
          ]
        }
      ]
    },
    {
      "cell_type": "markdown",
      "metadata": {
        "id": "utUjbxAB8OOi"
      },
      "source": [
        "#### Modifying the a list \n",
        "\n",
        "Here, we will show you how to change the elements of a list in two ways"
      ],
      "id": "utUjbxAB8OOi"
    },
    {
      "cell_type": "markdown",
      "metadata": {
        "id": "umE1pkbV8fdN"
      },
      "source": [
        "###### Changing an element \n",
        "The first is change the value of an element using the index of the element. For examples let's change the first element of `mylist` to from Abdi to Somali.\n",
        "\n",
        "Here's how to do that:"
      ],
      "id": "umE1pkbV8fdN"
    },
    {
      "cell_type": "code",
      "metadata": {
        "colab": {
          "base_uri": "https://localhost:8080/"
        },
        "id": "33LZsUKZ9AET",
        "outputId": "28e3029c-7658-4701-c3e6-676f40c49f01"
      },
      "source": [
        "mylist[0] = \"Somali\"\n",
        "print(mylist)"
      ],
      "id": "33LZsUKZ9AET",
      "execution_count": 6,
      "outputs": [
        {
          "output_type": "stream",
          "text": [
            "['Somali', 'mubarik', 'Saleban', 1, 2.5, -1991]\n"
          ],
          "name": "stdout"
        }
      ]
    },
    {
      "cell_type": "markdown",
      "metadata": {
        "id": "CbILmdtW9KBG"
      },
      "source": [
        "When we print the list, we see that the first element is no longer Abdi."
      ],
      "id": "CbILmdtW9KBG"
    },
    {
      "cell_type": "markdown",
      "metadata": {
        "id": "XZLuIglf9YQC"
      },
      "source": [
        "##### Adding an element to the list \n",
        "\n",
        "To add a new element to the list we use the `append` operator.\n",
        "\n",
        "See the example below."
      ],
      "id": "XZLuIglf9YQC"
    },
    {
      "cell_type": "code",
      "metadata": {
        "colab": {
          "base_uri": "https://localhost:8080/"
        },
        "id": "FPYoYXnU9ndK",
        "outputId": "e3af2422-f4e1-4fbf-d572-12ccd80fc6b7"
      },
      "source": [
        "mylist.append(\"Africa\")\n",
        "print(mylist)"
      ],
      "id": "FPYoYXnU9ndK",
      "execution_count": 7,
      "outputs": [
        {
          "output_type": "stream",
          "text": [
            "['Somali', 'mubarik', 'Saleban', 1, 2.5, -1991, 'Africa']\n"
          ],
          "name": "stdout"
        }
      ]
    },
    {
      "cell_type": "markdown",
      "metadata": {
        "id": "g6hUkbAH9617"
      },
      "source": [
        "# Touples\n",
        "\n",
        "Touples are a comma separated collection of data similar to lists, but touples are not mutable(changeable). You can't add or change the elements of a touple.\n",
        "\n",
        "Let's create a touple show that it's not mutable."
      ],
      "id": "g6hUkbAH9617"
    },
    {
      "cell_type": "code",
      "metadata": {
        "colab": {
          "base_uri": "https://localhost:8080/",
          "height": 219
        },
        "id": "gY8t5KPD-hWp",
        "outputId": "7072f266-fb52-4c44-addb-dd33268537cb"
      },
      "source": [
        "mytouple = (2,3,4,\"abi\",(2,3))\n",
        "print(mytouple[0])\n",
        "mytouple[0] = \"mubarik\""
      ],
      "id": "gY8t5KPD-hWp",
      "execution_count": 10,
      "outputs": [
        {
          "output_type": "stream",
          "text": [
            "2\n"
          ],
          "name": "stdout"
        },
        {
          "output_type": "error",
          "ename": "TypeError",
          "evalue": "ignored",
          "traceback": [
            "\u001b[0;31m---------------------------------------------------------------------------\u001b[0m",
            "\u001b[0;31mTypeError\u001b[0m                                 Traceback (most recent call last)",
            "\u001b[0;32m<ipython-input-10-c47231f040a8>\u001b[0m in \u001b[0;36m<module>\u001b[0;34m()\u001b[0m\n\u001b[1;32m      1\u001b[0m \u001b[0mmytouple\u001b[0m \u001b[0;34m=\u001b[0m \u001b[0;34m(\u001b[0m\u001b[0;36m2\u001b[0m\u001b[0;34m,\u001b[0m\u001b[0;36m3\u001b[0m\u001b[0;34m,\u001b[0m\u001b[0;36m4\u001b[0m\u001b[0;34m,\u001b[0m\u001b[0;34m\"abi\"\u001b[0m\u001b[0;34m,\u001b[0m\u001b[0;34m(\u001b[0m\u001b[0;36m2\u001b[0m\u001b[0;34m,\u001b[0m\u001b[0;36m3\u001b[0m\u001b[0;34m)\u001b[0m\u001b[0;34m)\u001b[0m\u001b[0;34m\u001b[0m\u001b[0;34m\u001b[0m\u001b[0m\n\u001b[1;32m      2\u001b[0m \u001b[0mprint\u001b[0m\u001b[0;34m(\u001b[0m\u001b[0mmytouple\u001b[0m\u001b[0;34m[\u001b[0m\u001b[0;36m0\u001b[0m\u001b[0;34m]\u001b[0m\u001b[0;34m)\u001b[0m\u001b[0;34m\u001b[0m\u001b[0;34m\u001b[0m\u001b[0m\n\u001b[0;32m----> 3\u001b[0;31m \u001b[0mmytouple\u001b[0m\u001b[0;34m[\u001b[0m\u001b[0;36m0\u001b[0m\u001b[0;34m]\u001b[0m \u001b[0;34m=\u001b[0m \u001b[0;34m\"mubarik\"\u001b[0m\u001b[0;34m\u001b[0m\u001b[0;34m\u001b[0m\u001b[0m\n\u001b[0m",
            "\u001b[0;31mTypeError\u001b[0m: 'tuple' object does not support item assignment"
          ]
        }
      ]
    },
    {
      "cell_type": "markdown",
      "metadata": {
        "id": "XBiOekiR-xj1"
      },
      "source": [
        "# Dictionaries in Python\n",
        "\n",
        "Dictionaries are collection of key, value pairs. \n",
        "\n",
        "Let's show you how to create a dictionary in Python\n"
      ],
      "id": "XBiOekiR-xj1"
    },
    {
      "cell_type": "code",
      "metadata": {
        "colab": {
          "base_uri": "https://localhost:8080/"
        },
        "id": "BO5-XTIj_Nn4",
        "outputId": "762de1e5-ffb9-4736-e617-8fe661e8fca3"
      },
      "source": [
        "mydict = {'age': 23, \"name\": \"abdi\"}\n",
        "print(mydict)"
      ],
      "id": "BO5-XTIj_Nn4",
      "execution_count": 12,
      "outputs": [
        {
          "output_type": "stream",
          "text": [
            "{'age': 23, 'name': 'abdi'}\n"
          ],
          "name": "stdout"
        }
      ]
    },
    {
      "cell_type": "markdown",
      "metadata": {
        "id": "aaNnsc0d_nne"
      },
      "source": [
        "#### Accessing values in a dictionary\n",
        "\n",
        "To access a value in a dictionary, you will use the key the same way you would use the index in a list. Let's show you an example"
      ],
      "id": "aaNnsc0d_nne"
    },
    {
      "cell_type": "code",
      "metadata": {
        "colab": {
          "base_uri": "https://localhost:8080/",
          "height": 35
        },
        "id": "q9x3poOeAGjh",
        "outputId": "aa3c37dd-8b06-4dba-a10a-2ca32681eb00"
      },
      "source": [
        "mydict['name']"
      ],
      "id": "q9x3poOeAGjh",
      "execution_count": 13,
      "outputs": [
        {
          "output_type": "execute_result",
          "data": {
            "application/vnd.google.colaboratory.intrinsic+json": {
              "type": "string"
            },
            "text/plain": [
              "'abdi'"
            ]
          },
          "metadata": {
            "tags": []
          },
          "execution_count": 13
        }
      ]
    },
    {
      "cell_type": "code",
      "metadata": {
        "colab": {
          "base_uri": "https://localhost:8080/"
        },
        "id": "VuBgiBszAM0N",
        "outputId": "a2d0fb19-0b9a-45af-84c7-846f1d6f8737"
      },
      "source": [
        "mydict['age']"
      ],
      "id": "VuBgiBszAM0N",
      "execution_count": 14,
      "outputs": [
        {
          "output_type": "execute_result",
          "data": {
            "text/plain": [
              "23"
            ]
          },
          "metadata": {
            "tags": []
          },
          "execution_count": 14
        }
      ]
    },
    {
      "cell_type": "markdown",
      "metadata": {
        "id": "GjRVciauAXmS"
      },
      "source": [
        "#### Modifying dictionaries in Python\n",
        "\n",
        "Adding a new key value pair and changing the value of a key is the same in dictionaries. Let's demo both"
      ],
      "id": "GjRVciauAXmS"
    },
    {
      "cell_type": "code",
      "metadata": {
        "colab": {
          "base_uri": "https://localhost:8080/"
        },
        "id": "l5P6f_h1Athh",
        "outputId": "8b1f3009-8d0d-46d2-9fd5-b3d1252d2ec9"
      },
      "source": [
        "mydict[\"age\"]=100\n",
        "print(mydict)"
      ],
      "id": "l5P6f_h1Athh",
      "execution_count": 15,
      "outputs": [
        {
          "output_type": "stream",
          "text": [
            "{'age': 100, 'name': 'abdi'}\n"
          ],
          "name": "stdout"
        }
      ]
    },
    {
      "cell_type": "code",
      "metadata": {
        "colab": {
          "base_uri": "https://localhost:8080/"
        },
        "id": "gF2rKfeqA02N",
        "outputId": "aff05d92-5c35-4352-cfc3-b863b953a4f3"
      },
      "source": [
        "mydict[\"language\"]=\"Somali\"\n",
        "print(mydict)"
      ],
      "id": "gF2rKfeqA02N",
      "execution_count": 16,
      "outputs": [
        {
          "output_type": "stream",
          "text": [
            "{'age': 100, 'name': 'abdi', 'language': 'Somali'}\n"
          ],
          "name": "stdout"
        }
      ]
    }
  ]
}