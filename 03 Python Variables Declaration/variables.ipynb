{
 "cells": [
  {
   "cell_type": "markdown",
   "id": "9edc0c0e",
   "metadata": {},
   "source": [
    "<img style=\"float: left;\" src=\"https://avatars.githubusercontent.com/u/88348966?s=400&u=9643fc4455139ef6e232241a949da1d6005499e6&v=4\" alt=\"drawing\" />\n",
    "\n",
    "</br>"
   ]
  },
  {
   "cell_type": "markdown",
   "id": "566570b7",
   "metadata": {},
   "source": [
    "### Welcome to the Repository for the Complete Python Bootcamp!\n",
    "## Variables\n",
    "Hello guys, welcome back.\n",
    "\n",
    "In this section, we’re going to learning about variables in Python.\n",
    "\n",
    "Programming is mainly about conveying information to users by taking users giving data, \n",
    "doing some processing, and giving data back."
   ]
  },
  {
   "cell_type": "markdown",
   "id": "bf288e1b",
   "metadata": {},
   "source": [
    "### Definig a variable called “name” and assign to “Abdi” as value"
   ]
  },
  {
   "cell_type": "code",
   "execution_count": null,
   "id": "b242f262",
   "metadata": {},
   "outputs": [],
   "source": [
    "name = \"Abdi\""
   ]
  },
  {
   "cell_type": "markdown",
   "id": "77aa9c6a",
   "metadata": {},
   "source": [
    "This is how we define a variable in Python and give it a value.\n",
    "* We first state the variable name\n",
    "* Then an equal sign\n",
    "* And then the value that we want to assign it."
   ]
  },
  {
   "cell_type": "markdown",
   "id": "7977383e",
   "metadata": {},
   "source": [
    "Here if we want to print the name, all we have to do is call print and then inside brackets, and put our variable "
   ]
  },
  {
   "cell_type": "code",
   "execution_count": null,
   "id": "30de70a2",
   "metadata": {},
   "outputs": [],
   "source": [
    "print(name)"
   ]
  },
  {
   "cell_type": "markdown",
   "id": "9a5368df",
   "metadata": {},
   "source": [
    "Instead of printing the variable name, we can print “Abdi” directly inside the print statement, which is fine, it means exactly the same thing. Because “name” is the variable name, which we used it inside the print statement to print the value out."
   ]
  },
  {
   "cell_type": "code",
   "execution_count": null,
   "id": "b70f727d",
   "metadata": {},
   "outputs": [],
   "source": [
    "print(\"Abdi\")"
   ]
  },
  {
   "cell_type": "markdown",
   "id": "7e0641a5",
   "metadata": {},
   "source": [
    "NOTE\n",
    "There is one important benefit of having variables, which is that if you define let’s say “name” to be “Abdi” and print it out. Then we can change the value and print it again. This is just how variable works in Python, you define them by name, then an equal sign, and then the value."
   ]
  },
  {
   "cell_type": "markdown",
   "id": "279cf000",
   "metadata": {},
   "source": [
    "If we want a longer variable name, for example, let’s say <b>“full_name”</b>. Usually, in Python, we’ll use the underscore character to separate different words."
   ]
  },
  {
   "cell_type": "code",
   "execution_count": null,
   "id": "f90d5dbf",
   "metadata": {},
   "outputs": [],
   "source": [
    "full_name = \"Abdi Ali\""
   ]
  },
  {
   "cell_type": "markdown",
   "id": "8de333f9",
   "metadata": {},
   "source": [
    "Here we have variable names contains underscore to separate characters, “first_name”. <br><b>NOTE</b> - variable names can’t contain dashes in them or any other special symbols. They can’t start with numbers."
   ]
  },
  {
   "cell_type": "code",
   "execution_count": null,
   "id": "cbd3d0c5",
   "metadata": {},
   "outputs": [],
   "source": [
    "# We can't do this: -> full-name, 0full-name,"
   ]
  },
  {
   "cell_type": "markdown",
   "id": "bc8608ab",
   "metadata": {},
   "source": [
    "Let’s say we variable that its value will never be going to change. Then we usually write those all in UPPERCASE letters, for example, the number PI, which is 3.14159. We’ll write this in all uppercase letters because we know that we never going to change it."
   ]
  },
  {
   "cell_type": "code",
   "execution_count": null,
   "id": "292db0ab",
   "metadata": {},
   "outputs": [],
   "source": [
    "PI = 3.14159"
   ]
  },
  {
   "cell_type": "markdown",
   "id": "1a24ed4a",
   "metadata": {},
   "source": [
    "So this is how we create variables in Python and give them values. See you next one."
   ]
  }
 ],
 "metadata": {
  "kernelspec": {
   "display_name": "Python 3",
   "language": "python",
   "name": "python3"
  },
  "language_info": {
   "codemirror_mode": {
    "name": "ipython",
    "version": 3
   },
   "file_extension": ".py",
   "mimetype": "text/x-python",
   "name": "python",
   "nbconvert_exporter": "python",
   "pygments_lexer": "ipython3",
   "version": "3.8.10"
  }
 },
 "nbformat": 4,
 "nbformat_minor": 5
}
