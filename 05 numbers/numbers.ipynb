{
  "nbformat": 4,
  "nbformat_minor": 5,
  "metadata": {
    "kernelspec": {
      "display_name": "Python 3",
      "language": "python",
      "name": "python3"
    },
    "language_info": {
      "codemirror_mode": {
        "name": "ipython",
        "version": 3
      },
      "file_extension": ".py",
      "mimetype": "text/x-python",
      "name": "python",
      "nbconvert_exporter": "python",
      "pygments_lexer": "ipython3",
      "version": "3.8.10"
    },
    "colab": {
      "name": "numbers.ipynb",
      "provenance": []
    }
  },
  "cells": [
    {
      "cell_type": "markdown",
      "metadata": {
        "id": "8dd37bf0"
      },
      "source": [
        "<img style=\"float: left;\" src=\"https://avatars.githubusercontent.com/u/88348966?s=400&u=9643fc4455139ef6e232241a949da1d6005499e6&v=4\" alt=\"drawing\" />\n"
      ],
      "id": "8dd37bf0"
    },
    {
      "cell_type": "markdown",
      "metadata": {
        "id": "ff4fb50c"
      },
      "source": [
        "### Welcome to the Repository for the Complete Python Bootcamp!\n",
        "## Numbers in Python\n",
        "Hello guys, welcome back.\n",
        "\n",
        "In this section, we’re going to learning about numbers, number types, and simple math operations in Python.\n",
        "\n",
        "There are two main types of numbers in python and they are integers and floats "
      ],
      "id": "ff4fb50c"
    },
    {
      "cell_type": "markdown",
      "metadata": {
        "id": "0a8b997c"
      },
      "source": [
        "### integers \n",
        "\n",
        "Integers are simple numbers without decimal and they are recognized as `int` in Python. Examples of integers includes negative numbers(e.g. -2), zero, and positive number (e.g. 2).\n",
        "\n",
        "Let's print some integers to start with"
      ],
      "id": "0a8b997c"
    },
    {
      "cell_type": "code",
      "metadata": {
        "colab": {
          "base_uri": "https://localhost:8080/"
        },
        "id": "VgQvePH2peR0",
        "outputId": "61a646e0-9737-48de-ed7b-e3de90e0dd9d"
      },
      "source": [
        "print(2)\n"
      ],
      "id": "VgQvePH2peR0",
      "execution_count": 1,
      "outputs": [
        {
          "output_type": "stream",
          "text": [
            "2\n"
          ],
          "name": "stdout"
        }
      ]
    },
    {
      "cell_type": "code",
      "metadata": {
        "colab": {
          "base_uri": "https://localhost:8080/"
        },
        "id": "ynRT5RydpvGh",
        "outputId": "a5d533c4-06a5-4f91-a9fa-3e8d91fda8c8"
      },
      "source": [
        "print(-3)"
      ],
      "id": "ynRT5RydpvGh",
      "execution_count": 2,
      "outputs": [
        {
          "output_type": "stream",
          "text": [
            "-3\n"
          ],
          "name": "stdout"
        }
      ]
    },
    {
      "cell_type": "code",
      "metadata": {
        "colab": {
          "base_uri": "https://localhost:8080/"
        },
        "id": "ft3Sk1NPpx3F",
        "outputId": "1f52ef56-ed04-40cd-d0a6-b5d8883f41d6"
      },
      "source": [
        "print(0)"
      ],
      "id": "ft3Sk1NPpx3F",
      "execution_count": 3,
      "outputs": [
        {
          "output_type": "stream",
          "text": [
            "0\n"
          ],
          "name": "stdout"
        }
      ]
    },
    {
      "cell_type": "markdown",
      "metadata": {
        "id": "IiikGxD7qhpy"
      },
      "source": [
        "# Floats\n",
        "\n",
        "Floats are simple numbers with decimal places and they are recognized as `float` in Python. Examples of floats includes negative numbers(e.g. -2.0), 0.0, and positive number (e.g. 2.0).\n",
        "\n",
        "Let's print some floats to start with"
      ],
      "id": "IiikGxD7qhpy"
    },
    {
      "cell_type": "code",
      "metadata": {
        "id": "3-evLdTQrEmQ"
      },
      "source": [
        "print(2.0)"
      ],
      "id": "3-evLdTQrEmQ",
      "execution_count": null,
      "outputs": []
    },
    {
      "cell_type": "code",
      "metadata": {
        "id": "qhPGupevrGsd"
      },
      "source": [
        "print(0.0)"
      ],
      "id": "qhPGupevrGsd",
      "execution_count": null,
      "outputs": []
    },
    {
      "cell_type": "code",
      "metadata": {
        "id": "2BeBQRwxrIVw"
      },
      "source": [
        "print(-0.2)"
      ],
      "id": "2BeBQRwxrIVw",
      "execution_count": null,
      "outputs": []
    },
    {
      "cell_type": "markdown",
      "metadata": {
        "id": "557fd5f2"
      },
      "source": [
        "# Type operator \n",
        "\n",
        "The type operator in python tells the type of a data(e.g. integer, float, etc) \n",
        "\n",
        "To use the type operator you say `type(data)`. Let's print the types of some numbers demonstrate this "
      ],
      "id": "557fd5f2"
    },
    {
      "cell_type": "code",
      "metadata": {
        "colab": {
          "base_uri": "https://localhost:8080/"
        },
        "id": "88461030",
        "outputId": "87a0c9b2-fc7c-422e-b212-66682daf4e8b"
      },
      "source": [
        "print(type(2))"
      ],
      "id": "88461030",
      "execution_count": 6,
      "outputs": [
        {
          "output_type": "stream",
          "text": [
            "<class 'int'>\n"
          ],
          "name": "stdout"
        }
      ]
    },
    {
      "cell_type": "markdown",
      "metadata": {
        "id": "z52VndCordIJ"
      },
      "source": [
        "When you run the cell above, it should print `int` because the type of 2 is integers"
      ],
      "id": "z52VndCordIJ"
    },
    {
      "cell_type": "code",
      "metadata": {
        "colab": {
          "base_uri": "https://localhost:8080/"
        },
        "id": "nWM479ufrmxR",
        "outputId": "6f0a71da-2c22-4fb9-80b3-9a07b7fe0737"
      },
      "source": [
        "print(type(2.0))"
      ],
      "id": "nWM479ufrmxR",
      "execution_count": 5,
      "outputs": [
        {
          "output_type": "stream",
          "text": [
            "<class 'float'>\n"
          ],
          "name": "stdout"
        }
      ]
    },
    {
      "cell_type": "markdown",
      "metadata": {
        "id": "C0LTic1GrpH7"
      },
      "source": [
        "When you run the cell above, it should print `float` because the type of 2 is integers"
      ],
      "id": "C0LTic1GrpH7"
    },
    {
      "cell_type": "markdown",
      "metadata": {
        "id": "HfXUSxVOr9as"
      },
      "source": [
        "# number conversion\n",
        " To convert an integer to float or a float integers, you will use the type you want to convert as an operator. \n",
        "\n",
        " Let's run some examples"
      ],
      "id": "HfXUSxVOr9as"
    },
    {
      "cell_type": "markdown",
      "metadata": {
        "id": "XBSzeJ37sYwv"
      },
      "source": [
        "### convert float to integer\n",
        "To convert an integer to a float we use the `int` operator.\n",
        "\n",
        "See the examples below"
      ],
      "id": "XBSzeJ37sYwv"
    },
    {
      "cell_type": "code",
      "metadata": {
        "colab": {
          "base_uri": "https://localhost:8080/"
        },
        "id": "ITYQR5DNs9tD",
        "outputId": "e6d38697-0f90-4abc-a8b2-4e40c6565007"
      },
      "source": [
        "print(int(2.2))"
      ],
      "id": "ITYQR5DNs9tD",
      "execution_count": 7,
      "outputs": [
        {
          "output_type": "stream",
          "text": [
            "2\n"
          ],
          "name": "stdout"
        }
      ]
    },
    {
      "cell_type": "markdown",
      "metadata": {
        "id": "Vr20wFPmtCFZ"
      },
      "source": [
        "When you run the cell above, you will see 2 printed and that's because in order to convert from float to int the `int` operator remove everything after the decimal point "
      ],
      "id": "Vr20wFPmtCFZ"
    },
    {
      "cell_type": "markdown",
      "metadata": {
        "id": "sB4m4dAMtnbF"
      },
      "source": [
        "### Convert Float to integer\n",
        "\n",
        "In this case we will use the `float` operator to convert integer to float."
      ],
      "id": "sB4m4dAMtnbF"
    },
    {
      "cell_type": "code",
      "metadata": {
        "colab": {
          "base_uri": "https://localhost:8080/"
        },
        "id": "wczpC1jhuAt9",
        "outputId": "73252cd6-7e2f-4ed1-9836-7a0c5e31e242"
      },
      "source": [
        "print(float(2))"
      ],
      "id": "wczpC1jhuAt9",
      "execution_count": 8,
      "outputs": [
        {
          "output_type": "stream",
          "text": [
            "2.0\n"
          ],
          "name": "stdout"
        }
      ]
    },
    {
      "cell_type": "markdown",
      "metadata": {
        "id": "rG-vwq5ruF0z"
      },
      "source": [
        "As shown above, the float operator adds a decimal point and a zero at the end."
      ],
      "id": "rG-vwq5ruF0z"
    },
    {
      "cell_type": "markdown",
      "metadata": {
        "id": "L1NDz7GPuuUI"
      },
      "source": [
        "## Simple math with Python\n",
        "\n",
        "There are four main math operators and they are the addition(+) operator, subtraction(-) operator, multiplication(\\*) operator, division(/) operator, and power(\\**) operator.\n",
        "\n",
        "Let's go over one-by-one\n"
      ],
      "id": "L1NDz7GPuuUI"
    },
    {
      "cell_type": "markdown",
      "metadata": {
        "id": "ARFVGwVPvrDb"
      },
      "source": [
        "#### Addion(+) in python\n",
        "\n",
        "The following example demonstrate how to do addition in python"
      ],
      "id": "ARFVGwVPvrDb"
    },
    {
      "cell_type": "code",
      "metadata": {
        "colab": {
          "base_uri": "https://localhost:8080/"
        },
        "id": "aKX0s6MuvqIA",
        "outputId": "645dbc0d-1193-494c-b9b1-a0304441de36"
      },
      "source": [
        "print(2+3)"
      ],
      "id": "aKX0s6MuvqIA",
      "execution_count": 9,
      "outputs": [
        {
          "output_type": "stream",
          "text": [
            "5\n"
          ],
          "name": "stdout"
        }
      ]
    },
    {
      "cell_type": "markdown",
      "metadata": {
        "id": "l0gewNXEv9iT"
      },
      "source": [
        "In the cell above we are addition two integers(2 and 3) and we get an integer(5)"
      ],
      "id": "l0gewNXEv9iT"
    },
    {
      "cell_type": "code",
      "metadata": {
        "colab": {
          "base_uri": "https://localhost:8080/"
        },
        "id": "Fa5jUni9wJQK",
        "outputId": "4b26ca31-2bd0-4ab2-ddd8-3db53ec2f484"
      },
      "source": [
        "print(3.0+4)"
      ],
      "id": "Fa5jUni9wJQK",
      "execution_count": 10,
      "outputs": [
        {
          "output_type": "stream",
          "text": [
            "7.0\n"
          ],
          "name": "stdout"
        }
      ]
    },
    {
      "cell_type": "markdown",
      "metadata": {
        "id": "PN9jz-AnwOPu"
      },
      "source": [
        "In the cell above, we are addition float(3.0) and integer(4) and we get a float(7.0) as a result.\n",
        "\n",
        "**Note:** If there's a float in the operation, the result is always a float."
      ],
      "id": "PN9jz-AnwOPu"
    },
    {
      "cell_type": "markdown",
      "metadata": {
        "id": "Dqmec8Lrwos8"
      },
      "source": [
        "#### Subtraction(-) in Python\n",
        "\n",
        "Here we demonstrate how to do subtraction in Python."
      ],
      "id": "Dqmec8Lrwos8"
    },
    {
      "cell_type": "code",
      "metadata": {
        "id": "AHmTXqX6w1J6"
      },
      "source": [
        "print(3-2)"
      ],
      "id": "AHmTXqX6w1J6",
      "execution_count": null,
      "outputs": []
    },
    {
      "cell_type": "code",
      "metadata": {
        "id": "9K62buLAw6TS"
      },
      "source": [
        "print(2-3)"
      ],
      "id": "9K62buLAw6TS",
      "execution_count": null,
      "outputs": []
    },
    {
      "cell_type": "code",
      "metadata": {
        "id": "x7ydA7Yfw8u4"
      },
      "source": [
        "print(4.5-12)"
      ],
      "id": "x7ydA7Yfw8u4",
      "execution_count": null,
      "outputs": []
    },
    {
      "cell_type": "markdown",
      "metadata": {
        "id": "5U7DobyjxGy_"
      },
      "source": [
        "#Multiplication(*) in Python\n",
        "\n",
        "Here we demonstrate multiplication in Python"
      ],
      "id": "5U7DobyjxGy_"
    },
    {
      "cell_type": "code",
      "metadata": {
        "id": "zj0dr0oRxO2D"
      },
      "source": [
        "print(3*2)"
      ],
      "id": "zj0dr0oRxO2D",
      "execution_count": null,
      "outputs": []
    },
    {
      "cell_type": "code",
      "metadata": {
        "id": "Be7zjK0AxR5Y"
      },
      "source": [
        "print(5*-2.0)"
      ],
      "id": "Be7zjK0AxR5Y",
      "execution_count": null,
      "outputs": []
    },
    {
      "cell_type": "code",
      "metadata": {
        "id": "nyrwNjHyxYPo"
      },
      "source": [
        "print(100*0)"
      ],
      "id": "nyrwNjHyxYPo",
      "execution_count": null,
      "outputs": []
    },
    {
      "cell_type": "code",
      "metadata": {
        "id": "fEiGkDrixZ9Q"
      },
      "source": [
        "print(100.0*1)"
      ],
      "id": "fEiGkDrixZ9Q",
      "execution_count": null,
      "outputs": []
    },
    {
      "cell_type": "markdown",
      "metadata": {
        "id": "u3Kh1kRzxh1p"
      },
      "source": [
        "### Division(/) in Python\n",
        "\n",
        "Here we demonstrate division in Python"
      ],
      "id": "u3Kh1kRzxh1p"
    },
    {
      "cell_type": "code",
      "metadata": {
        "id": "eWiGCC5GxvKX"
      },
      "source": [
        "print(2/3)"
      ],
      "id": "eWiGCC5GxvKX",
      "execution_count": null,
      "outputs": []
    },
    {
      "cell_type": "code",
      "metadata": {
        "id": "mJDaMcBVxwC4"
      },
      "source": [
        "print(2.0/3)"
      ],
      "id": "mJDaMcBVxwC4",
      "execution_count": null,
      "outputs": []
    },
    {
      "cell_type": "code",
      "metadata": {
        "id": "fGOhPUGsxvs8"
      },
      "source": [
        "print(0/4)"
      ],
      "id": "fGOhPUGsxvs8",
      "execution_count": null,
      "outputs": []
    },
    {
      "cell_type": "code",
      "metadata": {
        "id": "eiav8bsCxveG"
      },
      "source": [
        "print(4/0)"
      ],
      "id": "eiav8bsCxveG",
      "execution_count": null,
      "outputs": []
    },
    {
      "cell_type": "markdown",
      "metadata": {
        "id": "_IgRyKsIx9WQ"
      },
      "source": [
        "### Power(\\**) in python\n",
        "\n",
        "Here we demonstrate how to do exponentiation or power in python"
      ],
      "id": "_IgRyKsIx9WQ"
    },
    {
      "cell_type": "code",
      "metadata": {
        "id": "GODXD4rhyQYu"
      },
      "source": [
        "print(3**2)"
      ],
      "id": "GODXD4rhyQYu",
      "execution_count": null,
      "outputs": []
    },
    {
      "cell_type": "code",
      "metadata": {
        "id": "h2TXY5DVyVGy"
      },
      "source": [
        "print(0.05**3)"
      ],
      "id": "h2TXY5DVyVGy",
      "execution_count": null,
      "outputs": []
    },
    {
      "cell_type": "code",
      "metadata": {
        "id": "5VS6cFq3yVDX"
      },
      "source": [
        "print(5**0)"
      ],
      "id": "5VS6cFq3yVDX",
      "execution_count": null,
      "outputs": []
    },
    {
      "cell_type": "code",
      "metadata": {
        "id": "hS4K8A2ayU7S"
      },
      "source": [
        "print(4**1)"
      ],
      "id": "hS4K8A2ayU7S",
      "execution_count": null,
      "outputs": []
    },
    {
      "cell_type": "code",
      "metadata": {
        "id": "ORhxIoz5yUwE"
      },
      "source": [
        "print(1**100)"
      ],
      "id": "ORhxIoz5yUwE",
      "execution_count": null,
      "outputs": []
    },
    {
      "cell_type": "markdown",
      "metadata": {
        "id": "KR0rzYF0ykeY"
      },
      "source": [
        "### Mixed operators in Python\n",
        "\n",
        "Here we will show an example where we use multiple operators at once to calculate the temperature in celcius when we know the temperature in fahrenheit and the other way around"
      ],
      "id": "KR0rzYF0ykeY"
    },
    {
      "cell_type": "markdown",
      "metadata": {
        "id": "JbzWFQOSzRFL"
      },
      "source": [
        "##### Fahrenheit to Celcius\n",
        "\n",
        "We will calculate celcius when it is 95 fahrenheit."
      ],
      "id": "JbzWFQOSzRFL"
    },
    {
      "cell_type": "code",
      "metadata": {
        "colab": {
          "base_uri": "https://localhost:8080/"
        },
        "id": "KMqbKhx0zgnl",
        "outputId": "d2e7f038-e742-4bf9-b8e8-28a0b929cad5"
      },
      "source": [
        "print((95-32)*5/9.0)"
      ],
      "id": "KMqbKhx0zgnl",
      "execution_count": 11,
      "outputs": [
        {
          "output_type": "stream",
          "text": [
            "35.0\n"
          ],
          "name": "stdout"
        }
      ]
    },
    {
      "cell_type": "markdown",
      "metadata": {
        "id": "qQA8s6YTzvhL"
      },
      "source": [
        "##### Celcius to Fahrenheit\n",
        "\n",
        "Now we will calculate Fahrenheit when it is 35 celcius."
      ],
      "id": "qQA8s6YTzvhL"
    },
    {
      "cell_type": "code",
      "metadata": {
        "colab": {
          "base_uri": "https://localhost:8080/"
        },
        "id": "oIUyZemb0AgT",
        "outputId": "f03a8470-05ff-4995-a71a-675200cf38ca"
      },
      "source": [
        "print((35*9/5)+32)"
      ],
      "id": "oIUyZemb0AgT",
      "execution_count": 12,
      "outputs": [
        {
          "output_type": "stream",
          "text": [
            "95.0\n"
          ],
          "name": "stdout"
        }
      ]
    }
  ]
}