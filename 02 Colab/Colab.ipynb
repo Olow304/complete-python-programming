{
  "nbformat": 4,
  "nbformat_minor": 5,
  "metadata": {
    "kernelspec": {
      "display_name": "Python 3",
      "language": "python",
      "name": "python3"
    },
    "language_info": {
      "codemirror_mode": {
        "name": "ipython",
        "version": 3
      },
      "file_extension": ".py",
      "mimetype": "text/x-python",
      "name": "python",
      "nbconvert_exporter": "python",
      "pygments_lexer": "ipython3",
      "version": "3.8.10"
    },
    "colab": {
      "name": "Colab.ipynb",
      "provenance": []
    }
  },
  "cells": [
    {
      "cell_type": "markdown",
      "metadata": {
        "id": "8dd37bf0"
      },
      "source": [
        "<img style=\"float: left;\" src=\"https://avatars.githubusercontent.com/u/88348966?s=400&u=9643fc4455139ef6e232241a949da1d6005499e6&v=4\" alt=\"drawing\" />\n"
      ],
      "id": "8dd37bf0"
    },
    {
      "cell_type": "markdown",
      "metadata": {
        "id": "ff4fb50c"
      },
      "source": [
        "### Welcome to the Repository for the Complete Python Bootcamp!\n",
        "## Using Colab\n",
        "Hello guys, welcome back.\n",
        "\n",
        "In this section, we will show you how to use colab for Python. \n",
        "\n",
        "To start using Colab, go to [colab.research.google.com](https://colab.research.google.com)\n",
        "\n",
        "\n",
        "After Colab loads, create a new notebook by clicking on **File** in the top menu and selecting **new notebook** from the dropdown menu.\n",
        "\n",
        "A new notebook with code an open code cell will open up. "
      ],
      "id": "ff4fb50c"
    },
    {
      "cell_type": "markdown",
      "metadata": {
        "id": "0a8b997c"
      },
      "source": [
        "### Fist line of code on colab.\n",
        "\n",
        "print(\"Hello World!\")"
      ],
      "id": "0a8b997c"
    }
  ]
}